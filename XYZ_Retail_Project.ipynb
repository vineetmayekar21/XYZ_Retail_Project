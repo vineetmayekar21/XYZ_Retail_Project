{
 "cells": [
  {
   "cell_type": "code",
   "execution_count": 1,
   "id": "1dec8952-080c-47e5-93e6-40039b007866",
   "metadata": {},
   "outputs": [
    {
     "name": "stdout",
     "output_type": "stream",
     "text": [
      "Sales Data Summary:\n",
      "Total Units Sold: 270\n",
      "Difference Between Categories: 30\n",
      "Ratio of Category A to Category B: 1.25\n"
     ]
    }
   ],
   "source": [
    "#Task 1 - (Objective: XYZ Retail wants to automate the process of calculating basic sales metrics.\n",
    "#Ø Assign the number of units sold in two categories, `Category A` and `Category B`, to variables.\n",
    "#Ø Calculate the total units sold, the difference between the categories, and the ratio of units sold.\n",
    "#Ø Print these results clearly for the management team.\n",
    " \n",
    "#· Sample Input -\n",
    "#        Category A: 150 units             Category B: 120 units\n",
    "#· Sample Output -\n",
    "#         Sales Data Summary:\n",
    "#         Total Units Sold: 270\n",
    "#         Difference Between Categories: 30\n",
    "#         Ratio of Category A to Category B: 1.25)\n",
    "\n",
    "\n",
    "    \n",
    "\n",
    "category_a = 150\n",
    "category_b = 120\n",
    "\n",
    "\n",
    "total_units_sold = category_a + category_b\n",
    "difference_between_categories = abs(category_a - category_b)\n",
    "ratio_of_units = category_a / category_b\n",
    "\n",
    "print(\"Sales Data Summary:\")\n",
    "print(f\"Total Units Sold: {total_units_sold}\")\n",
    "print(f\"Difference Between Categories: {difference_between_categories}\")\n",
    "print(f\"Ratio of Category A to Category B: {ratio_of_units}\")"
   ]
  },
  {
   "cell_type": "code",
   "execution_count": 17,
   "id": "04cd956c-2a26-4f78-a88c-0b1d83bab96a",
   "metadata": {},
   "outputs": [
    {
     "name": "stdout",
     "output_type": "stream",
     "text": [
      "Dear {customer_name}, at {age_str}, you’re eligible for our premium loyalty program.\n"
     ]
    }
   ],
   "source": [
    "#Task 2 - Objective: Understanding the age distribution of customers is crucial for marketing strategies.\n",
    "#Ø Store a customer's name and age.\n",
    "#Ø Convert the age into a string and create a personalized marketing message like \"Dear John Doe, at 30, you’re eligible for our premium loyalty program.\"\n",
    "#  - Print the message for use in email campaigns.\n",
    "#· Sample Input -\n",
    "#        Customer Name: John Doe         Customer Age: 30     \n",
    "#           · Sample Output -\n",
    "#         Dear John Doe, at 30, you’re eligible for our premium loyalty program.\n",
    "\n",
    "\n",
    "\n",
    "customer_name = \"John Doe\"\n",
    "customer_age = 30\n",
    "\n",
    "age_str = str(customer_age)\n",
    "\n",
    "message = f\"Dear {customer_name}, at {age_str}, you’re eligible for our premium loyalty program.\"\n",
    "\n",
    "print(message)\n"
   ]
  },
  {
   "cell_type": "code",
   "execution_count": 31,
   "id": "bbc5f36b-cd6c-4bf4-9fb2-32da15cf06b0",
   "metadata": {},
   "outputs": [
    {
     "name": "stdout",
     "output_type": "stream",
     "text": [
      "Highest Price: 200\n",
      "Lowest Price: 30\n",
      "Mid-Range Products: [50, 120, 90, 150, 180]\n",
      "Updated Product List with Premium Price: None\n"
     ]
    }
   ],
   "source": [
    "#Task 3 - Objective: Efficient management of the product list is essential for inventory control.\n",
    "#Ø Given a list of product prices, extract the highest and lowest prices.\n",
    "#Ø Create a new list with the mid-range products.\n",
    "#Ø Add a new premium product price to the list and print the updated list for the inventory team.\n",
    " \n",
    "#· Sample Input\n",
    "#         product_prices = [50, 120, 30, 200, 90, 150, 180]\n",
    "#          premium_product_price = 250\n",
    "#· Sample Output\n",
    "#          Highest Price: 200\n",
    "#          Lowest Price: 30                                 \n",
    "#          Mid-Range Products: [50, 120, 90, 150, 180]\n",
    "#          Updated Product List with Premium Price: [50, 120, 30, 200, 90, 150, 180, 250]      \n",
    "\n",
    "product_prices = [50,120,30,200,90,150,180]\n",
    "premium_product_price = 250\n",
    "\n",
    "highest_price = max(product_prices)\n",
    "lowest_price = min(product_prices)\n",
    "mid_range_products = [price for price in product_prices if price != highest_price and price != lowest_price]\n",
    "updated_product_list_with_premium_price = product_prices.append(premium_product_price)\n",
    "\n",
    "print(f\"Highest Price: {highest_price}\")\n",
    "print(f\"Lowest Price: {lowest_price}\")\n",
    "print(f\"Mid-Range Products: {mid_range_products}\")\n",
    "print(f\"Updated Product List with Premium Price: {updated_product_list_with_premium_price}\")"
   ]
  },
  {
   "cell_type": "code",
   "execution_count": 63,
   "id": "d97ae390-cb97-4719-895d-3ad698bbdaed",
   "metadata": {},
   "outputs": [
    {
     "name": "stdout",
     "output_type": "stream",
     "text": [
      "Product Name: Wireless Mouse\n",
      "Product SKU: WM-12345\n"
     ]
    }
   ],
   "source": [
    "#Task 4 - Objective: Quick access to product details is important for customer service representatives.\n",
    "#Ø Create a dictionary storing key information about a product (e.g., `product_name`, `SKU`, `price`, `category`).\n",
    "#Ø Print the product name and SKU when queried by a customer service representative.\n",
    " \n",
    "#· Sample Input\n",
    "#product_info = { \"product_name\": \"Wireless Mouse\", \"SKU\": \"WM-12345\", \"price\": 25.99, \"category\": \"Electronics\" }\n",
    " \n",
    "#· Sample Output\n",
    "#        Product Name: Wireless Mouse                       Product SKU: WM-12345\n",
    "\n",
    "product_info = { \"product_name\": \"Wireless Mouse\", \n",
    "                \"SKU\": \"WM-12345\", \n",
    "                \"price\": 25.99, \n",
    "                \"category\": \"Electronics\" }\n",
    "\n",
    "product_name = product_info[\"product_name\"]\n",
    "product_SKU = product_info[\"SKU\"]\n",
    "\n",
    "print(f\"Product Name: {product_name}\")\n",
    "print(f\"Product SKU: {product_SKU}\")\n"
   ]
  },
  {
   "cell_type": "code",
   "execution_count": 9,
   "id": "c0d52dc6-a850-4528-a2b5-86c08751b9d7",
   "metadata": {},
   "outputs": [
    {
     "name": "stdout",
     "output_type": "stream",
     "text": [
      "Enter stock level: 10\n",
      "Reorder Now\n",
      "\n",
      "Enter stock level: 25\n",
      "Stock is sufficient\n",
      "\n"
     ]
    }
   ],
   "source": [
    "#Task 5 - Objective: Ensuring that stock levels are maintained is critical to avoid stockouts.\n",
    "#Ø Write the code that takes the stock level as input.\n",
    "#Ø  If stock is below a certain threshold, print a \"Reorder Now\" alert. If stock is above the threshold, print \"Stock is sufficient.\"\n",
    "#· Sample Input\n",
    "#Stock Level: 10                                       Threshold: 20\n",
    " \n",
    " \n",
    "#· Sample Output\n",
    "#         Enter stock level: 10     \n",
    "#          Reorder Now                                     \n",
    "#                                                                                 OR\n",
    "#         Enter stock level: 25\n",
    "#         Stock is sufficient\n",
    "\n",
    "\n",
    "\n",
    "threshold = 20\n",
    "stock_levels = [10, 25]\n",
    "for stock_level in stock_levels:\n",
    "    print(f\"Enter stock level: {stock_level}\")\n",
    "    if stock_level < threshold:\n",
    "        print(\"Reorder Now\")\n",
    "    else:\n",
    "        print(\"Stock is sufficient\")\n",
    "    print() "
   ]
  },
  {
   "cell_type": "code",
   "execution_count": 7,
   "id": "5724787e-b8b0-4f59-9e2c-26886b0abb8f",
   "metadata": {},
   "outputs": [
    {
     "name": "stdout",
     "output_type": "stream",
     "text": [
      "LAPTOP\n",
      "MOUSE\n",
      "KEYBOARD\n",
      "MONITOR\n",
      "PRINTER\n"
     ]
    }
   ],
   "source": [
    "#Task 6: Sales Report Formatting\n",
    "#Objective: Formatting the sales data for management reports is crucial.\n",
    "#Ø Given a list of products sold, print each product name in uppercase for better visibility in reports.\n",
    "#Ø Implement both a `for` loop and a `while` loop for this task to ensure code flexibility.\n",
    " \n",
    "#· Sample Input\n",
    "#products_sold = [\"laptop\", \"mouse\", \"keyboard\", \"monitor\", \"printer\"]\n",
    " \n",
    "#· Sample Output\n",
    "#        WIRELESS MOUSE\n",
    "#        KEYBOARD\n",
    "#        HEADPHONES\n",
    "#        MONITOR\n",
    "#        LAPTOP\n",
    "\n",
    "\n",
    "products_sold = [\"laptop\", \"mouse\", \"keyboard\", \"monitor\", \"\"]\n",
    "\n",
    "\n",
    "for product in products_sold:\n",
    "    index = 0\n",
    "    while index < len(product):\n",
    "        print(product[index].upper(), end=\"\")\n",
    "        index += 1\n",
    "    print()\n",
    "\n"
   ]
  },
  {
   "cell_type": "code",
   "execution_count": 21,
   "id": "5bbdf1d0-c0ec-4a3e-a3ed-447b08faa792",
   "metadata": {},
   "outputs": [
    {
     "name": "stdout",
     "output_type": "stream",
     "text": [
      "The area of section 1 is 300 square meters.\n",
      "The area of section 2 is 750 square meters.\n",
      "The area of section 3 is 1400 square meters.\n"
     ]
    }
   ],
   "source": [
    "#Task 7: Area Calculation for Store Layout\n",
    "#Objective: Accurate area calculations are needed to plan new store layouts.\n",
    "#Ø Create a function that calculates the area of a section of the store based on length and width.\n",
    "#Ø Use this function to calculate and print the area of several store sections.\n",
    " \n",
    "#· Sample Input\n",
    "# def main():\n",
    "#  length1, width1 = 20, 15\n",
    "# print(f\"The area of section 1 is {calculate_area(length1, width1)}  square meters.\")\n",
    " \n",
    "#· Sample Output\n",
    "#         The area of section 1 is 300 square meters.\n",
    "\n",
    "\n",
    "\n",
    "def calculate_area(length, width):\n",
    "    return length * width\n",
    "def main():\n",
    "    length1, width1 = 20, 15    \n",
    "    length2, width2 = 30, 25\n",
    "    length3, width3 = 40, 35\n",
    "    print(f\"The area of section 1 is {calculate_area(length1, width1)} square meters.\")\n",
    "    print(f\"The area of section 2 is {calculate_area(length2, width2)} square meters.\")\n",
    "    print(f\"The area of section 3 is {calculate_area(length3, width3)} square meters.\")\n",
    "if __name__ == \"__main__\":\n",
    "    main()\n",
    "    "
   ]
  },
  {
   "cell_type": "code",
   "execution_count": 63,
   "id": "7831063d-1e11-4dec-b6cf-7d30d8f3407b",
   "metadata": {
    "scrolled": true
   },
   "outputs": [
    {
     "name": "stdout",
     "output_type": "stream",
     "text": [
      "Customer Feedback Analysis:\n",
      "Original Feedback: The service was excellent and very quick!\n",
      "Number of Vowels: 12\n",
      "Reversed Feedback: !kciuq yrev dna tnellecxe saw ecivres ehT\n"
     ]
    }
   ],
   "source": [
    "#Task 8: Customer Feedback Analysis\n",
    "#Objective: Analyzing customer feedback is vital to improving service.\n",
    "#· Write the code to count the number of vowels in a customer feedback message.\n",
    "#·  Also, reverse the feedback message for a unique data presentation in reports.\n",
    " \n",
    "#· Sample Input\n",
    "#        \"I loved the fast and friendly service!\"\n",
    "#· Sample Output\n",
    "#         Customer Feedback Analysis:\n",
    "#        Original Feedback: The service was excellent and very quick!\n",
    "#         Number of Vowels: 13\n",
    "#         Reversed Feedback: !kciuq yrev dna tnellecxe saw ecivres ehT\n",
    "\n",
    "\n",
    "def count_vowels(feedback):\n",
    "    vowels = \"aeiouAEIOU\"\n",
    "    count = 0\n",
    "    for char in feedback:\n",
    "        if char in vowels:\n",
    "            count += 1\n",
    "    return count\n",
    "\n",
    "def reverse_feedback(feedback):\n",
    "    return feedback[::-1]\n",
    "\n",
    "def main():\n",
    "    feedback = \"The service was excellent and very quick!\"\n",
    "    vowel_count = count_vowels(feedback)\n",
    "    reversed_feedback = reverse_feedback(feedback)\n",
    "    print(\"Customer Feedback Analysis:\")\n",
    "    print(f\"Original Feedback: {feedback}\")\n",
    "    print(f\"Number of Vowels: {vowel_count}\")\n",
    "    print(f\"Reversed Feedback: {reversed_feedback}\")\n",
    "if __name__ == \"__main__\":\n",
    "    main()"
   ]
  },
  {
   "cell_type": "code",
   "execution_count": 31,
   "id": "9f815043-450f-4231-ab53-2713bf122293",
   "metadata": {},
   "outputs": [
    {
     "name": "stdout",
     "output_type": "stream",
     "text": [
      "Products eligible for the discount campaign: [85, 45]\n"
     ]
    }
   ],
   "source": [
    "#Task 9: Price Filtering Tool\n",
    "#Objective: Filtering product prices helps in creating targeted discounts.\n",
    "#Ø Use list comprehension to filter out products priced below a certain threshold from the product list.\n",
    "#Ø Print the list of eligible products for a discount campaign.\n",
    " \n",
    "#· Sample Input\n",
    "#        product_prices = [150, 85, 300, 120, 45, 200]\n",
    "#        Discount Threshold: 100\n",
    " \n",
    "#· Sample Output\n",
    "#        Products eligible for the discount campaign: [85, 45]\n",
    "\n",
    "\n",
    "def filter_products_for_discount(product_prices, threshold):\n",
    "    eligible_products = [price for price in product_prices if price < threshold]\n",
    "    return eligible_products\n",
    "def main():\n",
    "    product_prices = [150, 85, 300, 120, 45, 200]\n",
    "    discount_threshold = 100\n",
    "    eligible_products = filter_products_for_discount(product_prices, discount_threshold)\n",
    "    print(f\"Products eligible for the discount campaign: {eligible_products}\")\n",
    "if __name__ == \"__main__\":\n",
    "    main()\n"
   ]
  },
  {
   "cell_type": "code",
   "execution_count": 33,
   "id": "c39babdc-9f4b-4f5f-8881-8d89292ea1af",
   "metadata": {},
   "outputs": [
    {
     "name": "stdout",
     "output_type": "stream",
     "text": [
      "Content of 'sales_log.txt':\n",
      "Total sales today: $12,345.\n",
      "Number of transactions: 123.\n",
      "\n"
     ]
    }
   ],
   "source": [
    "#Task 10: Sales Log File Management\n",
    "#Objective: Proper management of sales log files is necessary for compliance and audit purposes.\n",
    "#Ø Create a text file named `sales_log.txt` to store daily sales summaries.\n",
    "#Ø Write two lines summarizing the daily sales performance.\n",
    "#Ø Read and print the content of the file to ensure data integrity.\n",
    " \n",
    "#· Sample Input\n",
    "#        Daily Sales Summary Line 1: \"Total sales today: $12,345.\"\n",
    "#        Daily Sales Summary Line 2: \"Number of transactions: 123.\"\n",
    " \n",
    "#· Sample Output\n",
    "#        Content of 'sales_log.txt':\n",
    "#        Total sales today: $12,345.\n",
    "#        Number of transactions: 123.\n",
    "\n",
    "\n",
    "def create_sales_log():\n",
    "    sales_summary_line_1 = \"Total sales today: $12,345.\"\n",
    "    sales_summary_line_2 = \"Number of transactions: 123.\"\n",
    "    with open(\"sales_log.txt\", \"w\") as file:\n",
    "        file.write(sales_summary_line_1 + \"\\n\")\n",
    "        file.write(sales_summary_line_2 + \"\\n\")\n",
    "    with open(\"sales_log.txt\", \"r\") as file:\n",
    "        content = file.read()\n",
    "    print(\"Content of 'sales_log.txt':\")\n",
    "    print(content)\n",
    "if __name__ == \"__main__\":\n",
    "    create_sales_log()\n"
   ]
  },
  {
   "cell_type": "code",
   "execution_count": 35,
   "id": "7834299e-38dd-4949-a211-e1299e553c09",
   "metadata": {},
   "outputs": [
    {
     "name": "stdout",
     "output_type": "stream",
     "text": [
      "Average Daily Sales for the Past Week: $1471.43\n"
     ]
    }
   ],
   "source": [
    "#Task 11: Daily Sales Average\n",
    "#Objective: Calculate the average daily sales for the past week.\n",
    "#Ø Given a list of sales figures for the last 7 days, calculate the average sales.\n",
    "#Ø Print the average sales to help the finance team understand the weekly performance.\n",
    " \n",
    "#· Sample Input\n",
    "#        daily_sales = [1200, 1500, 1100, 1800, 1700, 1600, 1400]\n",
    "#· Sample Output\n",
    "#       Average Daily Sales for the Past Week: $1471.43\n",
    "\n",
    "def calculate_average_sales(daily_sales):\n",
    "    total_sales = sum(daily_sales)\n",
    "    num_days = len(daily_sales)\n",
    "    average_sales = total_sales / num_days\n",
    "    return average_sales\n",
    "def main():\n",
    "    daily_sales = [1200, 1500, 1100, 1800, 1700, 1600, 1400]\n",
    "    average_sales = calculate_average_sales(daily_sales)\n",
    "    print(f\"Average Daily Sales for the Past Week: ${average_sales:.2f}\")\n",
    "if __name__ == \"__main__\":\n",
    "    main()\n"
   ]
  },
  {
   "cell_type": "code",
   "execution_count": 39,
   "id": "e7852c42-af45-4e1f-b6f8-cadc1e786c22",
   "metadata": {},
   "outputs": [
    {
     "name": "stdout",
     "output_type": "stream",
     "text": [
      "Customer Spending Categories:\n",
      "Customer 1: Spending = $200 -> Category: Low\n",
      "Customer 2: Spending = $800 -> Category: Medium\n",
      "Customer 3: Spending = $1500 -> Category: High\n",
      "Customer 4: Spending = $3000 -> Category: High\n",
      "Customer 5: Spending = $450 -> Category: Low\n",
      "Customer 6: Spending = $1200 -> Category: Medium\n"
     ]
    }
   ],
   "source": [
    "#Task 12: Customer Segmentation\n",
    "#Objective: Categorize customers based on their total spending.\n",
    "#Ø Create a list of customer spending amounts.\n",
    "#Ø Use a loop to categorize customers as \"Low\", \"Medium\", or \"High\" spenders based on their spending amount.\n",
    "#Ø Print the categorized results to assist in targeted marketing.\n",
    " \n",
    "#· Sample Input\n",
    "#        Customer Categorization Criteria:\n",
    "#        - Low: Spending < $500\n",
    "#       - Medium: $500 <= Spending < $1500\n",
    "#       - High: Spending >= $1500\n",
    " \n",
    "#         Customer Spendings: [200, 800, 1500, 3000, 450, 1200]      \n",
    " \n",
    " \n",
    "#· Sample Output\n",
    "#        Customer Spending Categories:\n",
    "#        Customer 1: Spending = $200 -> Category: Low\n",
    "#        Customer 2: Spending = $800 -> Category: Medium\n",
    "#        Customer 3: Spending = $1500 -> Category: High\n",
    "#        Customer 4: Spending = $3000 -> Category: High\n",
    "#        Customer 5: Spending = $450 -> Category: Low\n",
    "#        Customer 6: Spending = $1200 -> Category: Medium\n",
    "\n",
    "\n",
    "def categorize_spending(spending):\n",
    "    if spending < 500:\n",
    "        return \"Low\"\n",
    "    elif 500 <= spending < 1500:\n",
    "        return \"Medium\"\n",
    "    else:\n",
    "        return \"High\"\n",
    "def main():\n",
    "    customer_spendings = [200, 800, 1500, 3000, 450, 1200]\n",
    "    print(\"Customer Spending Categories:\")\n",
    "    for i, spending in enumerate(customer_spendings, start=1):\n",
    "        category = categorize_spending(spending)\n",
    "        print(f\"Customer {i}: Spending = ${spending} -> Category: {category}\")\n",
    "if __name__ == \"__main__\":\n",
    "    main()\n",
    "\n"
   ]
  },
  {
   "cell_type": "code",
   "execution_count": 41,
   "id": "bdf15d7c-0d3e-4a12-90cb-93ac6573ebb0",
   "metadata": {},
   "outputs": [
    {
     "name": "stdout",
     "output_type": "stream",
     "text": [
      "Final Prices After Discounts:\n",
      "Product 1: Original Price = $100, Discount = 10%, Final Price = $90.00\n",
      "Product 2: Original Price = $250, Discount = 20%, Final Price = $200.00\n",
      "Product 3: Original Price = $75, Discount = 15%, Final Price = $63.75\n",
      "Product 4: Original Price = $150, Discount = 5%, Final Price = $142.50\n"
     ]
    }
   ],
   "source": [
    "#Task 13: Discount Calculation\n",
    "#Objective: Automate the calculation of discounts for a promotional campaign.\n",
    "#Ø Write a code that calculates the final price after applying a discount percentage to a product’s original price.\n",
    "#Ø Test this function on a list of products with different discounts and print the final prices.\n",
    " \n",
    "#· Sample Input\n",
    " \n",
    "#products = [ {\"name\": \"Product A\", \"original_price\": 100, \"discount_percentage\": 10}, {\"name\": \"Product B\", \"original_price\": 250, \"discount_percentage\": 20}, {\"name\": \"Product C\", \"original_price\": 75, \"discount_percentage\": 15}, {\"name\": \"Product D\", \"original_price\": 150, \"discount_percentage\": 5} ]\n",
    " \n",
    "#· Sample Output\n",
    "#        Final Prices After Discounts:\n",
    "#       Product 1: Original Price = $100, Discount = 10%, Final Price = $90.00\n",
    "#       Product 2: Original Price = $250, Discount = 20%, Final Price = $200.00\n",
    "#       Product 3: Original Price = $75, Discount = 15%, Final Price = $63.75\n",
    "#       Product 4: Original Price = $150, Discount = 5%, Final Price = $142.50        \n",
    "\n",
    "\n",
    "def calculate_final_price(original_price, discount_percentage):\n",
    "    discount_amount = original_price * (discount_percentage / 100)\n",
    "    final_price = original_price - discount_amount\n",
    "    return final_price\n",
    "def main():\n",
    "    products = [\n",
    "        {\"name\": \"Product A\", \"original_price\": 100, \"discount_percentage\": 10},\n",
    "        {\"name\": \"Product B\", \"original_price\": 250, \"discount_percentage\": 20},\n",
    "        {\"name\": \"Product C\", \"original_price\": 75, \"discount_percentage\": 15},\n",
    "        {\"name\": \"Product D\", \"original_price\": 150, \"discount_percentage\": 5}\n",
    "    ]\n",
    "    print(\"Final Prices After Discounts:\")\n",
    "    for i, product in enumerate(products, start=1):\n",
    "        final_price = calculate_final_price(product[\"original_price\"], product[\"discount_percentage\"])\n",
    "        print(f\"Product {i}: Original Price = ${product['original_price']}, \"\n",
    "              f\"Discount = {product['discount_percentage']}%, \"\n",
    "              f\"Final Price = ${final_price:.2f}\")\n",
    "if __name__ == \"__main__\":\n",
    "    main()\n"
   ]
  },
  {
   "cell_type": "code",
   "execution_count": 43,
   "id": "f0998952-58d8-41b7-a1a0-67a3049be624",
   "metadata": {},
   "outputs": [
    {
     "name": "stdout",
     "output_type": "stream",
     "text": [
      "Customer Feedback Sentiment: Positive\n"
     ]
    }
   ],
   "source": [
    "#Task 14: Customer Feedback Sentiment Analysis\n",
    "#Objective: Basic sentiment analysis of customer feedback.\n",
    "#Ø Write the Python code that checks if certain positive or negative words (e.g., \"good\", \"bad\", \"happy\", \"disappointed\") are present in customer feedback.\n",
    "#Ø Print \"Positive\" or \"Negative\" based on the words found in the feedback.\n",
    " \n",
    "#· Sample Input\n",
    " \n",
    "#Customer Feedback: \"I am very happy with the service. It was a good experience!\"\n",
    "#Positive Words: [\"good\", \"happy\", \"excellent\", \"great\"]\n",
    "#Negative Words: [\"bad\", \"disappointed\", \"poor\", \"terrible\"]\n",
    "#· Sample Output\n",
    "#        Customer Feedback Sentiment: Positive\n",
    "\n",
    "\n",
    "def analyze_sentiment(feedback, positive_words, negative_words):\n",
    "    feedback_lower = feedback.lower()\n",
    "    positive_count = sum(word in feedback_lower for word in positive_words)\n",
    "    negative_count = sum(word in feedback_lower for word in negative_words)\n",
    "    if positive_count > negative_count:\n",
    "        return \"Positive\"\n",
    "    elif negative_count > positive_count:\n",
    "        return \"Negative\"\n",
    "    else:\n",
    "        return \"Neutral\"\n",
    "def main():\n",
    "    feedback = \"I am very happy with the service. It was a good experience!\"\n",
    "    positive_words = [\"good\", \"happy\", \"excellent\", \"great\"]\n",
    "    negative_words = [\"bad\", \"disappointed\", \"poor\", \"terrible\"]\n",
    "    sentiment = analyze_sentiment(feedback, positive_words, negative_words)\n",
    "    print(f\"Customer Feedback Sentiment: {sentiment}\")\n",
    "if __name__ == \"__main__\":\n",
    "    main()\n"
   ]
  },
  {
   "cell_type": "code",
   "execution_count": 45,
   "id": "749eeef0-0b09-4e46-abd5-c8040ca84681",
   "metadata": {},
   "outputs": [
    {
     "name": "stdout",
     "output_type": "stream",
     "text": [
      "Updated Salaries After Increment:\n",
      "Alice: Current Salary = $50000, Rating = Excellent, Updated Salary = $60000.00\n",
      "Bob: Current Salary = $40000, Rating = Good, Updated Salary = $46000.00\n",
      "Charlie: Current Salary = $45000, Rating = Average, Updated Salary = $49500.00\n",
      "David: Current Salary = $35000, Rating = Poor, Updated Salary = $36750.00\n"
     ]
    }
   ],
   "source": [
    "#Task 15: Employee Salary Increment Calculator\n",
    " \n",
    "#Objective: Calculate the salary increment for employees based on their performance rating.\n",
    "#Ø Create a dictionary that stores employee names and their performance ratings.\n",
    "#Ø Write the code that applies a different increment percentage based on the rating.\n",
    "#Ø Print the updated salary for each employee.\n",
    " \n",
    "#· Sample Input\n",
    "# employees = { \"Alice\": {\"current_salary\": 50000, \"rating\": \"Excellent\"}, \"Bob\":     {\"current_salary\": 40000, \"rating\": \"Good\"}, \"Charlie\": {\"current_salary\": 45000, \"rating\": \"Average\"}, \"David\": {\"current_salary\": 35000, \"rating\": \"Poor\"} }\n",
    " \n",
    "#increments = { \"Excellent\": 20, \"Good\": 15, \"Average\": 10, \"Poor\": 5 }\n",
    " \n",
    "#· Sample Output\n",
    "#        Updated Salaries After Increment:\n",
    "#        Alice: Current Salary = $50000, Rating = Excellent, Updated Salary = $60000.00\n",
    "#        Bob: Current Salary = $40000, Rating = Good, Updated Salary = $46000.00\n",
    "#       Charlie: Current Salary = $45000, Rating = Average, Updated Salary = $49500.00\n",
    "#        David: Current Salary = $35000, Rating = Poor, Updated Salary = $36750.00\n",
    "\n",
    "\n",
    "def calculate_incremented_salary(current_salary, increment_percentage):\n",
    "    increment_amount = current_salary * (increment_percentage / 100)\n",
    "    updated_salary = current_salary + increment_amount\n",
    "    return updated_salary\n",
    "def main():\n",
    "    employees = {\n",
    "        \"Alice\": {\"current_salary\": 50000, \"rating\": \"Excellent\"},\n",
    "        \"Bob\": {\"current_salary\": 40000, \"rating\": \"Good\"},\n",
    "        \"Charlie\": {\"current_salary\": 45000, \"rating\": \"Average\"},\n",
    "        \"David\": {\"current_salary\": 35000, \"rating\": \"Poor\"}}\n",
    "    increments = {\n",
    "        \"Excellent\": 20,\n",
    "        \"Good\": 15,\n",
    "        \"Average\": 10,\n",
    "        \"Poor\": 5}\n",
    "    print(\"Updated Salaries After Increment:\")\n",
    "    for name, info in employees.items():\n",
    "        current_salary = info[\"current_salary\"]\n",
    "        rating = info[\"rating\"]\n",
    "        increment_percentage = increments[rating]\n",
    "        updated_salary = calculate_incremented_salary(current_salary, increment_percentage)\n",
    "        print(f\"{name}: Current Salary = ${current_salary}, Rating = {rating}, \"\n",
    "              f\"Updated Salary = ${updated_salary:.2f}\")\n",
    "if __name__ == \"__main__\":\n",
    "    main()\n"
   ]
  },
  {
   "cell_type": "code",
   "execution_count": 47,
   "id": "864c5e85-f4cf-4290-b2d7-afb244565041",
   "metadata": {},
   "outputs": [
    {
     "name": "stdout",
     "output_type": "stream",
     "text": [
      "Content of 'monthly_report.txt':\n",
      "Monthly Sales Report\n",
      "---------------------\n",
      "Total Sales: $10300\n",
      "Average Daily Sales: $343.33\n",
      "\n"
     ]
    }
   ],
   "source": [
    "#Task 16: Monthly Sales Report Generator\n",
    " \n",
    "#Objective: Generate a simple text-based monthly sales report.\n",
    "#Ø Create a list of daily sales figures for a month.\n",
    "#Ø Calculate the total and average sales for the month.\n",
    "#Ø Write these statistics to a text file named monthly_report.txt.\n",
    " \n",
    "#· Sample Input\n",
    "#daily_sales = [ 200, 250, 300, 400, 350, 500, 450, 300, 250, 400, 200, 300, 450, 500, 400, 250, 350, 300, 450, 400, 250, 300, 200, 400, 350, 300, 500, 450, 300, 250 ]\n",
    " \n",
    "#· Sample Output\n",
    "#        Monthly Sales Report\n",
    "#         ---------------------\n",
    "#        Total Sales: $10500                                 Average Daily Sales: $350.00\n",
    "\n",
    "\n",
    "def generate_monthly_sales_report(daily_sales):\n",
    "    total_sales = sum(daily_sales)\n",
    "    average_sales = total_sales / len(daily_sales)\n",
    "    report_content = (\n",
    "        \"Monthly Sales Report\\n\"\n",
    "        \"---------------------\\n\"\n",
    "        f\"Total Sales: ${total_sales}\\n\"\n",
    "        f\"Average Daily Sales: ${average_sales:.2f}\\n\")\n",
    "    with open(\"monthly_report.txt\", \"w\") as file:\n",
    "        file.write(report_content)\n",
    "    with open(\"monthly_report.txt\", \"r\") as file:\n",
    "        content = file.read()\n",
    "    print(\"Content of 'monthly_report.txt':\")\n",
    "    print(content)\n",
    "def main():\n",
    "    daily_sales = [\n",
    "        200, 250, 300, 400, 350, 500, 450, 300, 250, 400, 200, 300, \n",
    "        450, 500, 400, 250, 350, 300, 450, 400, 250, 300, 200, 400, \n",
    "        350, 300, 500, 450, 300, 250]\n",
    "    generate_monthly_sales_report(daily_sales)\n",
    "if __name__ == \"__main__\":\n",
    "    main()\n",
    "\n"
   ]
  },
  {
   "cell_type": "code",
   "execution_count": 49,
   "id": "49ea59fc-f79b-4f6e-b595-33c545117e22",
   "metadata": {},
   "outputs": [
    {
     "name": "stdout",
     "output_type": "stream",
     "text": [
      "Products that need replenishment:\n",
      "Product C\n",
      "Product E\n"
     ]
    }
   ],
   "source": [
    "#Task 17: Stock Replenishment Planning\n",
    " \n",
    "#Objective: Determine which products need replenishment based on sales data.\n",
    "#Ø Given a list of products and their current stock levels, compare these against a predefined threshold.\n",
    "#Ø Print a list of products that need to be reordered to maintain adequate stock levels.\n",
    " \n",
    "#· Sample Input\n",
    "#products = [ {\"product_name\": \"Product A\", \"stock\": 50}, {\"product_name\": \"Product B\", \"stock\": 150}, {\"product_name\": \"Product C\", \"stock\": 30}, {\"product_name\": \"Product D\", \"stock\": 75}, {\"product_name\": \"Product E\", \"stock\": 20} ]\n",
    "#threshold = 40\n",
    " \n",
    "#· Sample Output\n",
    "#        Products that need replenishment:\n",
    "#        Product C\n",
    "#        Product E\n",
    "\n",
    "\n",
    "def find_products_to_reorder(products, threshold):\n",
    "    products_to_reorder = []\n",
    "    for product in products:\n",
    "        if product[\"stock\"] < threshold:\n",
    "            products_to_reorder.append(product[\"product_name\"])\n",
    "    return products_to_reorder\n",
    "def main():\n",
    "    products = [\n",
    "        {\"product_name\": \"Product A\", \"stock\": 50},\n",
    "        {\"product_name\": \"Product B\", \"stock\": 150},\n",
    "        {\"product_name\": \"Product C\", \"stock\": 30},\n",
    "        {\"product_name\": \"Product D\", \"stock\": 75},\n",
    "        {\"product_name\": \"Product E\", \"stock\": 20}]\n",
    "    threshold = 40\n",
    "    products_to_reorder = find_products_to_reorder(products, threshold)\n",
    "    print(\"Products that need replenishment:\")\n",
    "    for product_name in products_to_reorder:\n",
    "        print(product_name)\n",
    "if __name__ == \"__main__\":\n",
    "    main()"
   ]
  },
  {
   "cell_type": "code",
   "execution_count": 51,
   "id": "99d24960-8802-438c-9ec2-3b96727b4fde",
   "metadata": {},
   "outputs": [
    {
     "name": "stdout",
     "output_type": "stream",
     "text": [
      "Cleaned Customer Names for Database Entry:\n",
      "John Doe\n",
      "Mary Smith\n",
      "Alice Johnson\n",
      "Bob White\n"
     ]
    }
   ],
   "source": [
    "#Task 18: Data Cleaning Utility\n",
    " \n",
    "#Objective: Create a utility to clean customer names for better data consistency.\n",
    "#Ø Write the code that takes a list of customer names with extra spaces and inconsistent capitalization.\n",
    "#Ø Clean the names by trimming spaces and standardizing the capitalization (e.g., \"JOHN DOE\" -> \"John Doe\").\n",
    "#Ø Print the cleaned names for database entry.\n",
    " \n",
    "#· Sample Input\n",
    "#customer_names = [ \" john doe \", \" MARY SMITH \", \" aLICE JOHNSON \", \"bOB WHITE\" ]\n",
    " \n",
    "#· Sample Output\n",
    "#      Cleaned Customer Names for Database Entry:\n",
    "#        John Doe\n",
    "#        Mary Smith\n",
    "#        Alice Johnson\n",
    "#        Bob White\n",
    "\n",
    "\n",
    "def clean_customer_name(name):\n",
    "    cleaned_name = name.strip().title()\n",
    "    return cleaned_name\n",
    "def main():\n",
    "    customer_names = [\" john doe \", \" MARY SMITH \", \" aLICE JOHNSON \", \"bOB WHITE\"]\n",
    "    cleaned_names = [clean_customer_name(name) for name in customer_names]\n",
    "    print(\"Cleaned Customer Names for Database Entry:\")\n",
    "    for name in cleaned_names:\n",
    "        print(name)\n",
    "if __name__ == \"__main__\":\n",
    "    main()\n",
    "\n"
   ]
  },
  {
   "cell_type": "code",
   "execution_count": 53,
   "id": "1e4ff76a-7403-4a7b-b5f4-c1f688759e4a",
   "metadata": {},
   "outputs": [
    {
     "name": "stdout",
     "output_type": "stream",
     "text": [
      "Forecasted Sales for Next Month: $22333.33\n"
     ]
    }
   ],
   "source": [
    "#Task 19: Simple Sales Forecasting\n",
    " \n",
    "#Objective: Implement a basic forecasting model for next month’s sales.\n",
    "#Ø Based on the average sales of the last 3 months, predict next month’s sales using a simple average.\n",
    "#Ø Print the forecasted sales figures for budget planning.\n",
    " \n",
    "#· Sample Input\n",
    "#Def main():\n",
    "#sales_last_3_months = [20000, 22000, 25000]\n",
    " \n",
    "#· Sample Output\n",
    "#        Forecasted Sales for Next Month: $12950.00\n",
    "\n",
    "\n",
    "def main():\n",
    "    sales_last_3_months = [20000, 22000, 25000]\n",
    "    average_sales = sum(sales_last_3_months) / len(sales_last_3_months)\n",
    "    print(f\"Forecasted Sales for Next Month: ${average_sales:.2f}\")\n",
    "if __name__ == \"__main__\":\n",
    "    main()"
   ]
  },
  {
   "cell_type": "code",
   "execution_count": 55,
   "id": "c0fa8b3e-09b7-4bfa-9356-6c553f5592f9",
   "metadata": {},
   "outputs": [
    {
     "name": "stdout",
     "output_type": "stream",
     "text": [
      "Customer Loyalty Points:\n",
      "John Doe: $250 Purchase, Loyalty Points: 375.0\n",
      "Jane Smith: $500 Purchase, Loyalty Points: 1000.0\n",
      "Alice Johnson: $1000 Purchase, Loyalty Points: 2000.0\n",
      "Bob White: $150 Purchase, Loyalty Points: 150.0\n"
     ]
    }
   ],
   "source": [
    "#Task 20: Customer Loyalty Points Calculator\n",
    " \n",
    "#Objective: Calculate loyalty points for customers based on their purchases.\n",
    "#Ø Write a code that assigns loyalty points to customers based on their total purchase amount.\n",
    "#Ø Implement a tiered system where different spending levels earn different point multipliers.\n",
    "#Ø Print the loyalty points for a list of customers.\n",
    " \n",
    "#· Sample Input\n",
    "#Customers and Their Total Purchases:\n",
    "# - John Doe: $250\n",
    "#- Jane Smith: $500\n",
    "# - Alice Johnson: $1000\n",
    "# - Bob White: $150\n",
    " \n",
    "#· Sample Output\n",
    "#       Customer Loyalty Points:\n",
    "#       John Doe: $250 Purchase, Loyalty Points: 375.0\n",
    "#       Jane Smith: $500 Purchase, Loyalty Points: 1000.0\n",
    "#       Alice Johnson: $1000 Purchase, Loyalty Points: 2000.0\n",
    "#       Bob White: $150 Purchase, Loyalty Points: 150.0\n",
    "\n",
    "\n",
    "def calculate_loyalty_points(purchase_amount):\n",
    "    if purchase_amount >= 1000:\n",
    "        multiplier = 2.0\n",
    "    elif purchase_amount >= 500:\n",
    "        multiplier = 2.0\n",
    "    elif purchase_amount >= 250:\n",
    "        multiplier = 1.5\n",
    "    else:\n",
    "        multiplier = 1.0\n",
    "    return purchase_amount * multiplier\n",
    "def main():\n",
    "    customers = {\n",
    "        \"John Doe\": 250,\n",
    "        \"Jane Smith\": 500,\n",
    "        \"Alice Johnson\": 1000,\n",
    "        \"Bob White\": 150}\n",
    "    print(\"Customer Loyalty Points:\")    \n",
    "    for name, purchase in customers.items():\n",
    "        loyalty_points = calculate_loyalty_points(purchase)\n",
    "        print(f\"{name}: ${purchase} Purchase, Loyalty Points: {loyalty_points:.1f}\")\n",
    "if __name__ == \"__main__\":\n",
    "    main()\n",
    "\n"
   ]
  },
  {
   "cell_type": "code",
   "execution_count": null,
   "id": "7bc43652-41c4-44d0-90fd-2dca00ddcb48",
   "metadata": {},
   "outputs": [],
   "source": []
  }
 ],
 "metadata": {
  "kernelspec": {
   "display_name": "Python [conda env:base] *",
   "language": "python",
   "name": "conda-base-py"
  },
  "language_info": {
   "codemirror_mode": {
    "name": "ipython",
    "version": 3
   },
   "file_extension": ".py",
   "mimetype": "text/x-python",
   "name": "python",
   "nbconvert_exporter": "python",
   "pygments_lexer": "ipython3",
   "version": "3.12.7"
  }
 },
 "nbformat": 4,
 "nbformat_minor": 5
}
